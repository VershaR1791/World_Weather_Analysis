{
 "cells": [
  {
   "cell_type": "code",
   "execution_count": 2,
   "id": "6e308170",
   "metadata": {},
   "outputs": [],
   "source": [
    "#Import the random module\n",
    "import random"
   ]
  },
  {
   "cell_type": "code",
   "execution_count": 3,
   "id": "2adc7284",
   "metadata": {},
   "outputs": [
    {
     "data": {
      "text/plain": [
       "-32"
      ]
     },
     "execution_count": 3,
     "metadata": {},
     "output_type": "execute_result"
    }
   ],
   "source": [
    "random.randint(-90,90)"
   ]
  },
  {
   "cell_type": "code",
   "execution_count": 4,
   "id": "013669d1",
   "metadata": {},
   "outputs": [
    {
     "data": {
      "text/plain": [
       "0.07159541480661624"
      ]
     },
     "execution_count": 4,
     "metadata": {},
     "output_type": "execute_result"
    }
   ],
   "source": [
    "random.random()"
   ]
  },
  {
   "cell_type": "code",
   "execution_count": 6,
   "id": "94999b8b",
   "metadata": {},
   "outputs": [
    {
     "data": {
      "text/plain": [
       "50.829598143972845"
      ]
     },
     "execution_count": 6,
     "metadata": {},
     "output_type": "execute_result"
    }
   ],
   "source": [
    "random_number = random.randint(-90,89) + random.random()\n",
    "random_number"
   ]
  },
  {
   "cell_type": "code",
   "execution_count": 9,
   "id": "5b00320a",
   "metadata": {},
   "outputs": [
    {
     "data": {
      "text/plain": [
       "[0.9856962770016681,\n",
       " -32.79272182829433,\n",
       " -17.484667748391015,\n",
       " 83.29490701746536,\n",
       " -7.326965896936215,\n",
       " 30.648010023860294,\n",
       " 27.163042773585076,\n",
       " 1.4753742925620512,\n",
       " -3.5617906765483385,\n",
       " 29.051687214489117]"
      ]
     },
     "execution_count": 9,
     "metadata": {},
     "output_type": "execute_result"
    }
   ],
   "source": [
    "x=1\n",
    "latitudes = []\n",
    "while x < 11:\n",
    "    random_lat = random.randint(-90,89) + random.random()\n",
    "    latitudes.append(random_lat)\n",
    "    x += 1\n",
    "latitudes"
   ]
  },
  {
   "cell_type": "code",
   "execution_count": 10,
   "id": "f49e11ad",
   "metadata": {},
   "outputs": [
    {
     "data": {
      "text/plain": [
       "-12"
      ]
     },
     "execution_count": 10,
     "metadata": {},
     "output_type": "execute_result"
    }
   ],
   "source": [
    "random.randrange(-90,89, step =1)"
   ]
  },
  {
   "cell_type": "code",
   "execution_count": 11,
   "id": "66cc1152",
   "metadata": {},
   "outputs": [
    {
     "data": {
      "text/plain": [
       "30"
      ]
     },
     "execution_count": 11,
     "metadata": {},
     "output_type": "execute_result"
    }
   ],
   "source": [
    "random.randrange(-90,89, step =3)"
   ]
  },
  {
   "cell_type": "code",
   "execution_count": 12,
   "id": "497ce39c",
   "metadata": {},
   "outputs": [
    {
     "data": {
      "text/plain": [
       "-10.291794379594407"
      ]
     },
     "execution_count": 12,
     "metadata": {},
     "output_type": "execute_result"
    }
   ],
   "source": [
    "random.uniform(-90,89)"
   ]
  },
  {
   "cell_type": "code",
   "execution_count": 13,
   "id": "e68220cf",
   "metadata": {},
   "outputs": [
    {
     "data": {
      "text/plain": [
       "-64.18324130879064"
      ]
     },
     "execution_count": 13,
     "metadata": {},
     "output_type": "execute_result"
    }
   ],
   "source": [
    "import numpy as np\n",
    "np.random.uniform(-90.000,90.000)"
   ]
  },
  {
   "cell_type": "code",
   "execution_count": 14,
   "id": "d91436db",
   "metadata": {},
   "outputs": [
    {
     "data": {
      "text/plain": [
       "array([ 48.3500741 ,  18.32849571,  -5.44274034,  -1.79470719,\n",
       "       -18.73556432,  21.35015884,  15.10224885,  32.18584962,\n",
       "        83.78215535, -76.24355949, -13.00764074,  66.97855017,\n",
       "       -20.07209896,  37.76779768,  85.43324205, -59.4755502 ,\n",
       "         7.36784876,  56.41809237, -12.28683765,  32.63898085,\n",
       "        77.00654059, -38.15473552,  30.52614748, -23.87335837,\n",
       "        -3.88216749, -42.7552879 ,  22.37602643, -55.51555203,\n",
       "         8.74713528, -32.67498223,  -3.69530647, -17.02034898,\n",
       "       -87.68049254,   6.41168325,  76.39697653,  -6.51474754,\n",
       "       -37.96403521, -39.36944003,  45.25076296,  18.46753444,\n",
       "       -59.46300711, -68.81340445,  78.3620119 , -80.10371343,\n",
       "       -76.70319959,  48.03621276, -82.73311293,  -9.93657863,\n",
       "       -83.81960142,  58.25162437])"
      ]
     },
     "execution_count": 14,
     "metadata": {},
     "output_type": "execute_result"
    }
   ],
   "source": [
    "np.random.uniform(-90.000,90.000, size = 50)"
   ]
  },
  {
   "cell_type": "code",
   "execution_count": 15,
   "id": "556ea3f1",
   "metadata": {},
   "outputs": [],
   "source": [
    "#Import timeit\n",
    "import timeit"
   ]
  },
  {
   "cell_type": "code",
   "execution_count": 16,
   "id": "3b22c858",
   "metadata": {},
   "outputs": [
    {
     "name": "stdout",
     "output_type": "stream",
     "text": [
      "17.8 µs ± 784 ns per loop (mean ± std. dev. of 7 runs, 100000 loops each)\n"
     ]
    }
   ],
   "source": [
    "%timeit np.random.uniform(-90.000, 90.000, size=1500)"
   ]
  },
  {
   "cell_type": "code",
   "execution_count": 17,
   "id": "79d0db83",
   "metadata": {},
   "outputs": [
    {
     "name": "stdout",
     "output_type": "stream",
     "text": [
      "2.4 ms ± 317 µs per loop (mean ± std. dev. of 7 runs, 100 loops each)\n"
     ]
    }
   ],
   "source": [
    "def latitudes(size):\n",
    "    latitudes = []\n",
    "    x = 0\n",
    "    while x < (size):\n",
    "        random_lat = random.randint(-90, 90) + random.random()\n",
    "        latitudes.append(random_lat)\n",
    "        x += 1\n",
    "    return latitudes\n",
    "# Call the function with 1500.\n",
    "%timeit latitudes(1500)"
   ]
  }
 ],
 "metadata": {
  "kernelspec": {
   "display_name": "PythonData",
   "language": "python",
   "name": "pythondata"
  },
  "language_info": {
   "codemirror_mode": {
    "name": "ipython",
    "version": 3
   },
   "file_extension": ".py",
   "mimetype": "text/x-python",
   "name": "python",
   "nbconvert_exporter": "python",
   "pygments_lexer": "ipython3",
   "version": "3.7.10"
  }
 },
 "nbformat": 4,
 "nbformat_minor": 5
}
